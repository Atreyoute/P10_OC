{
 "cells": [
  {
   "cell_type": "markdown",
   "metadata": {},
   "source": [
    "# P10 : Détectez des faux billets avec Python et R"
   ]
  },
  {
   "cell_type": "markdown",
   "metadata": {},
   "source": [
    "## Importation des données"
   ]
  },
  {
   "cell_type": "code",
   "execution_count": 175,
   "metadata": {},
   "outputs": [],
   "source": [
    "# manipulation de données\n",
    "import pandas as pd\n",
    "import numpy as np\n",
    "import matplotlib.pyplot as plt\n",
    "import seaborn as sns\n",
    "import missingno as mno\n",
    "\n",
    "# importation des modules sklearn pour les analyses prédictives et l'imputation par regression linéaire\n",
    "from sklearn import linear_model\n",
    "%matplotlib inline\n",
    "from sklearn import model_selection\n",
    "from sklearn.linear_model import LogisticRegression\n",
    "from sklearn.model_selection import train_test_split\n",
    "from sklearn.feature_selection import SelectKBest\n",
    "from sklearn.feature_selection import chi2\n",
    "from sklearn import metrics\n",
    "from sklearn.metrics import classification_report\n",
    "from sklearn.model_selection import train_test_split\n",
    "from sklearn.metrics import roc_auc_score, roc_curve, auc\n",
    "from sklearn.cluster import KMeans\n",
    "from scipy.spatial.distance import cdist\n"
   ]
  },
  {
   "cell_type": "code",
   "execution_count": 176,
   "metadata": {},
   "outputs": [],
   "source": [
    "#importation des données\n",
    "\n",
    "data = pd.read_csv('/Users/stephaniel/Documents/P10_Lemonnier_Stephanie_0722/P10_data/billets.csv', sep=';')\n",
    "prod_raw = pd.read_csv('/Users/stephaniel/Documents/P10_Lemonnier_Stephanie_0722/P10_data/billets_production.csv')"
   ]
  },
  {
   "cell_type": "markdown",
   "metadata": {},
   "source": [
    "## Analyse des données"
   ]
  },
  {
   "cell_type": "code",
   "execution_count": 177,
   "metadata": {},
   "outputs": [
    {
     "data": {
      "text/html": [
       "<div>\n",
       "<style scoped>\n",
       "    .dataframe tbody tr th:only-of-type {\n",
       "        vertical-align: middle;\n",
       "    }\n",
       "\n",
       "    .dataframe tbody tr th {\n",
       "        vertical-align: top;\n",
       "    }\n",
       "\n",
       "    .dataframe thead th {\n",
       "        text-align: right;\n",
       "    }\n",
       "</style>\n",
       "<table border=\"1\" class=\"dataframe\">\n",
       "  <thead>\n",
       "    <tr style=\"text-align: right;\">\n",
       "      <th></th>\n",
       "      <th>is_genuine</th>\n",
       "      <th>diagonal</th>\n",
       "      <th>height_left</th>\n",
       "      <th>height_right</th>\n",
       "      <th>margin_low</th>\n",
       "      <th>margin_up</th>\n",
       "      <th>length</th>\n",
       "    </tr>\n",
       "  </thead>\n",
       "  <tbody>\n",
       "    <tr>\n",
       "      <th>0</th>\n",
       "      <td>True</td>\n",
       "      <td>171.81</td>\n",
       "      <td>104.86</td>\n",
       "      <td>104.95</td>\n",
       "      <td>4.52</td>\n",
       "      <td>2.89</td>\n",
       "      <td>112.83</td>\n",
       "    </tr>\n",
       "    <tr>\n",
       "      <th>1</th>\n",
       "      <td>True</td>\n",
       "      <td>171.46</td>\n",
       "      <td>103.36</td>\n",
       "      <td>103.66</td>\n",
       "      <td>3.77</td>\n",
       "      <td>2.99</td>\n",
       "      <td>113.09</td>\n",
       "    </tr>\n",
       "    <tr>\n",
       "      <th>2</th>\n",
       "      <td>True</td>\n",
       "      <td>172.69</td>\n",
       "      <td>104.48</td>\n",
       "      <td>103.50</td>\n",
       "      <td>4.40</td>\n",
       "      <td>2.94</td>\n",
       "      <td>113.16</td>\n",
       "    </tr>\n",
       "    <tr>\n",
       "      <th>3</th>\n",
       "      <td>True</td>\n",
       "      <td>171.36</td>\n",
       "      <td>103.91</td>\n",
       "      <td>103.94</td>\n",
       "      <td>3.62</td>\n",
       "      <td>3.01</td>\n",
       "      <td>113.51</td>\n",
       "    </tr>\n",
       "    <tr>\n",
       "      <th>4</th>\n",
       "      <td>True</td>\n",
       "      <td>171.73</td>\n",
       "      <td>104.28</td>\n",
       "      <td>103.46</td>\n",
       "      <td>4.04</td>\n",
       "      <td>3.48</td>\n",
       "      <td>112.54</td>\n",
       "    </tr>\n",
       "  </tbody>\n",
       "</table>\n",
       "</div>"
      ],
      "text/plain": [
       "   is_genuine  diagonal  height_left  height_right  margin_low  margin_up  \\\n",
       "0        True    171.81       104.86        104.95        4.52       2.89   \n",
       "1        True    171.46       103.36        103.66        3.77       2.99   \n",
       "2        True    172.69       104.48        103.50        4.40       2.94   \n",
       "3        True    171.36       103.91        103.94        3.62       3.01   \n",
       "4        True    171.73       104.28        103.46        4.04       3.48   \n",
       "\n",
       "   length  \n",
       "0  112.83  \n",
       "1  113.09  \n",
       "2  113.16  \n",
       "3  113.51  \n",
       "4  112.54  "
      ]
     },
     "execution_count": 177,
     "metadata": {},
     "output_type": "execute_result"
    }
   ],
   "source": [
    "data.head(5)"
   ]
  },
  {
   "cell_type": "markdown",
   "metadata": {},
   "source": [
    "Données utilisées exprimés en mm (sauf pour is_genuine): \n",
    "- is_genuine : vrai billet ou faux billet\n",
    "- diagonal : longueur en diagonal du billet\n",
    "- height_left/height_right : hauteur du coté gauche/droit du billet\n",
    "- margin_low/margin_up : marge en bas/haut du billet (séparation entre le papier et l'impression sur le billet)\n",
    "- length : longueur du billet"
   ]
  },
  {
   "cell_type": "code",
   "execution_count": 178,
   "metadata": {},
   "outputs": [
    {
     "data": {
      "text/plain": [
       "<AxesSubplot:>"
      ]
     },
     "execution_count": 178,
     "metadata": {},
     "output_type": "execute_result"
    },
    {
     "data": {
      "text/plain": [
       "<Figure size 72x72 with 0 Axes>"
      ]
     },
     "metadata": {},
     "output_type": "display_data"
    },
    {
     "data": {
      "image/png": "[encoded data removed]",
      "text/plain": [
       "<Figure size 1800x720 with 2 Axes>"
      ]
     },
     "metadata": {
      "needs_background": "light"
     },
     "output_type": "display_data"
    }
   ],
   "source": [
    "plt.figure(figsize=(1,1))\n",
    "mno.matrix(data)"
   ]
  },
  {
   "cell_type": "code",
   "execution_count": 179,
   "metadata": {},
   "outputs": [
    {
     "name": "stdout",
     "output_type": "stream",
     "text": [
      "<class 'pandas.core.frame.DataFrame'>\n",
      "RangeIndex: 1500 entries, 0 to 1499\n",
      "Data columns (total 7 columns):\n",
      " #   Column        Non-Null Count  Dtype  \n",
      "---  ------        --------------  -----  \n",
      " 0   is_genuine    1500 non-null   bool   \n",
      " 1   diagonal      1500 non-null   float64\n",
      " 2   height_left   1500 non-null   float64\n",
      " 3   height_right  1500 non-null   float64\n",
      " 4   margin_low    1463 non-null   float64\n",
      " 5   margin_up     1500 non-null   float64\n",
      " 6   length        1500 non-null   float64\n",
      "dtypes: bool(1), float64(6)\n",
      "memory usage: 71.9 KB\n"
     ]
    }
   ],
   "source": [
    "data.info()"
   ]
  },
  {
   "cell_type": "markdown",
   "metadata": {},
   "source": [
    "Nous pouvons observer via la matrice que des données sont manquantes dans la colonne margin_low. \n",
    "\n",
    "Afin de les imputer, nous allons utiliser la régression linéaire comme demandé dans l'énoncé, mais d'autres méthodes peuvent être utilisées comme un KNN imputer."
   ]
  },
  {
   "cell_type": "code",
   "execution_count": 180,
   "metadata": {},
   "outputs": [
    {
     "data": {
      "text/html": [
       "<div>\n",
       "<style scoped>\n",
       "    .dataframe tbody tr th:only-of-type {\n",
       "        vertical-align: middle;\n",
       "    }\n",
       "\n",
       "    .dataframe tbody tr th {\n",
       "        vertical-align: top;\n",
       "    }\n",
       "\n",
       "    .dataframe thead th {\n",
       "        text-align: right;\n",
       "    }\n",
       "</style>\n",
       "<table border=\"1\" class=\"dataframe\">\n",
       "  <thead>\n",
       "    <tr style=\"text-align: right;\">\n",
       "      <th></th>\n",
       "      <th>is_genuine</th>\n",
       "      <th>diagonal</th>\n",
       "      <th>height_left</th>\n",
       "      <th>height_right</th>\n",
       "      <th>margin_low</th>\n",
       "      <th>margin_up</th>\n",
       "      <th>length</th>\n",
       "    </tr>\n",
       "  </thead>\n",
       "  <tbody>\n",
       "    <tr>\n",
       "      <th>72</th>\n",
       "      <td>True</td>\n",
       "      <td>171.94</td>\n",
       "      <td>103.89</td>\n",
       "      <td>103.45</td>\n",
       "      <td>NaN</td>\n",
       "      <td>3.25</td>\n",
       "      <td>112.79</td>\n",
       "    </tr>\n",
       "    <tr>\n",
       "      <th>99</th>\n",
       "      <td>True</td>\n",
       "      <td>171.93</td>\n",
       "      <td>104.07</td>\n",
       "      <td>104.18</td>\n",
       "      <td>NaN</td>\n",
       "      <td>3.14</td>\n",
       "      <td>113.08</td>\n",
       "    </tr>\n",
       "    <tr>\n",
       "      <th>151</th>\n",
       "      <td>True</td>\n",
       "      <td>172.07</td>\n",
       "      <td>103.80</td>\n",
       "      <td>104.38</td>\n",
       "      <td>NaN</td>\n",
       "      <td>3.02</td>\n",
       "      <td>112.93</td>\n",
       "    </tr>\n",
       "    <tr>\n",
       "      <th>197</th>\n",
       "      <td>True</td>\n",
       "      <td>171.45</td>\n",
       "      <td>103.66</td>\n",
       "      <td>103.80</td>\n",
       "      <td>NaN</td>\n",
       "      <td>3.62</td>\n",
       "      <td>113.27</td>\n",
       "    </tr>\n",
       "    <tr>\n",
       "      <th>241</th>\n",
       "      <td>True</td>\n",
       "      <td>171.83</td>\n",
       "      <td>104.14</td>\n",
       "      <td>104.06</td>\n",
       "      <td>NaN</td>\n",
       "      <td>3.02</td>\n",
       "      <td>112.36</td>\n",
       "    </tr>\n",
       "    <tr>\n",
       "      <th>251</th>\n",
       "      <td>True</td>\n",
       "      <td>171.80</td>\n",
       "      <td>103.26</td>\n",
       "      <td>102.82</td>\n",
       "      <td>NaN</td>\n",
       "      <td>2.95</td>\n",
       "      <td>113.22</td>\n",
       "    </tr>\n",
       "    <tr>\n",
       "      <th>284</th>\n",
       "      <td>True</td>\n",
       "      <td>171.92</td>\n",
       "      <td>103.83</td>\n",
       "      <td>103.76</td>\n",
       "      <td>NaN</td>\n",
       "      <td>3.23</td>\n",
       "      <td>113.29</td>\n",
       "    </tr>\n",
       "    <tr>\n",
       "      <th>334</th>\n",
       "      <td>True</td>\n",
       "      <td>171.85</td>\n",
       "      <td>103.70</td>\n",
       "      <td>103.96</td>\n",
       "      <td>NaN</td>\n",
       "      <td>3.00</td>\n",
       "      <td>113.36</td>\n",
       "    </tr>\n",
       "    <tr>\n",
       "      <th>410</th>\n",
       "      <td>True</td>\n",
       "      <td>172.56</td>\n",
       "      <td>103.72</td>\n",
       "      <td>103.51</td>\n",
       "      <td>NaN</td>\n",
       "      <td>3.12</td>\n",
       "      <td>112.95</td>\n",
       "    </tr>\n",
       "    <tr>\n",
       "      <th>413</th>\n",
       "      <td>True</td>\n",
       "      <td>172.30</td>\n",
       "      <td>103.66</td>\n",
       "      <td>103.50</td>\n",
       "      <td>NaN</td>\n",
       "      <td>3.16</td>\n",
       "      <td>112.95</td>\n",
       "    </tr>\n",
       "    <tr>\n",
       "      <th>445</th>\n",
       "      <td>True</td>\n",
       "      <td>172.34</td>\n",
       "      <td>104.42</td>\n",
       "      <td>103.22</td>\n",
       "      <td>NaN</td>\n",
       "      <td>3.01</td>\n",
       "      <td>112.97</td>\n",
       "    </tr>\n",
       "    <tr>\n",
       "      <th>481</th>\n",
       "      <td>True</td>\n",
       "      <td>171.81</td>\n",
       "      <td>103.53</td>\n",
       "      <td>103.96</td>\n",
       "      <td>NaN</td>\n",
       "      <td>2.71</td>\n",
       "      <td>113.99</td>\n",
       "    </tr>\n",
       "    <tr>\n",
       "      <th>505</th>\n",
       "      <td>True</td>\n",
       "      <td>172.01</td>\n",
       "      <td>103.97</td>\n",
       "      <td>104.05</td>\n",
       "      <td>NaN</td>\n",
       "      <td>2.98</td>\n",
       "      <td>113.65</td>\n",
       "    </tr>\n",
       "    <tr>\n",
       "      <th>611</th>\n",
       "      <td>True</td>\n",
       "      <td>171.80</td>\n",
       "      <td>103.68</td>\n",
       "      <td>103.49</td>\n",
       "      <td>NaN</td>\n",
       "      <td>3.30</td>\n",
       "      <td>112.84</td>\n",
       "    </tr>\n",
       "    <tr>\n",
       "      <th>654</th>\n",
       "      <td>True</td>\n",
       "      <td>171.97</td>\n",
       "      <td>103.69</td>\n",
       "      <td>103.54</td>\n",
       "      <td>NaN</td>\n",
       "      <td>2.70</td>\n",
       "      <td>112.79</td>\n",
       "    </tr>\n",
       "    <tr>\n",
       "      <th>675</th>\n",
       "      <td>True</td>\n",
       "      <td>171.60</td>\n",
       "      <td>103.85</td>\n",
       "      <td>103.91</td>\n",
       "      <td>NaN</td>\n",
       "      <td>2.56</td>\n",
       "      <td>113.27</td>\n",
       "    </tr>\n",
       "    <tr>\n",
       "      <th>710</th>\n",
       "      <td>True</td>\n",
       "      <td>172.03</td>\n",
       "      <td>103.97</td>\n",
       "      <td>103.86</td>\n",
       "      <td>NaN</td>\n",
       "      <td>3.07</td>\n",
       "      <td>112.65</td>\n",
       "    </tr>\n",
       "    <tr>\n",
       "      <th>739</th>\n",
       "      <td>True</td>\n",
       "      <td>172.07</td>\n",
       "      <td>103.74</td>\n",
       "      <td>103.76</td>\n",
       "      <td>NaN</td>\n",
       "      <td>3.09</td>\n",
       "      <td>112.41</td>\n",
       "    </tr>\n",
       "    <tr>\n",
       "      <th>742</th>\n",
       "      <td>True</td>\n",
       "      <td>172.14</td>\n",
       "      <td>104.06</td>\n",
       "      <td>103.96</td>\n",
       "      <td>NaN</td>\n",
       "      <td>3.24</td>\n",
       "      <td>113.07</td>\n",
       "    </tr>\n",
       "    <tr>\n",
       "      <th>780</th>\n",
       "      <td>True</td>\n",
       "      <td>172.41</td>\n",
       "      <td>103.95</td>\n",
       "      <td>103.79</td>\n",
       "      <td>NaN</td>\n",
       "      <td>3.13</td>\n",
       "      <td>113.41</td>\n",
       "    </tr>\n",
       "    <tr>\n",
       "      <th>798</th>\n",
       "      <td>True</td>\n",
       "      <td>171.96</td>\n",
       "      <td>103.84</td>\n",
       "      <td>103.62</td>\n",
       "      <td>NaN</td>\n",
       "      <td>3.01</td>\n",
       "      <td>114.44</td>\n",
       "    </tr>\n",
       "    <tr>\n",
       "      <th>844</th>\n",
       "      <td>True</td>\n",
       "      <td>171.62</td>\n",
       "      <td>104.14</td>\n",
       "      <td>104.49</td>\n",
       "      <td>NaN</td>\n",
       "      <td>2.99</td>\n",
       "      <td>113.35</td>\n",
       "    </tr>\n",
       "    <tr>\n",
       "      <th>845</th>\n",
       "      <td>True</td>\n",
       "      <td>172.02</td>\n",
       "      <td>104.21</td>\n",
       "      <td>104.05</td>\n",
       "      <td>NaN</td>\n",
       "      <td>2.90</td>\n",
       "      <td>113.62</td>\n",
       "    </tr>\n",
       "    <tr>\n",
       "      <th>871</th>\n",
       "      <td>True</td>\n",
       "      <td>171.37</td>\n",
       "      <td>104.07</td>\n",
       "      <td>103.75</td>\n",
       "      <td>NaN</td>\n",
       "      <td>3.07</td>\n",
       "      <td>113.27</td>\n",
       "    </tr>\n",
       "    <tr>\n",
       "      <th>895</th>\n",
       "      <td>True</td>\n",
       "      <td>171.81</td>\n",
       "      <td>103.68</td>\n",
       "      <td>103.80</td>\n",
       "      <td>NaN</td>\n",
       "      <td>2.98</td>\n",
       "      <td>113.82</td>\n",
       "    </tr>\n",
       "    <tr>\n",
       "      <th>919</th>\n",
       "      <td>True</td>\n",
       "      <td>171.92</td>\n",
       "      <td>103.68</td>\n",
       "      <td>103.45</td>\n",
       "      <td>NaN</td>\n",
       "      <td>2.58</td>\n",
       "      <td>113.68</td>\n",
       "    </tr>\n",
       "    <tr>\n",
       "      <th>945</th>\n",
       "      <td>True</td>\n",
       "      <td>172.09</td>\n",
       "      <td>103.74</td>\n",
       "      <td>103.52</td>\n",
       "      <td>NaN</td>\n",
       "      <td>3.02</td>\n",
       "      <td>112.78</td>\n",
       "    </tr>\n",
       "    <tr>\n",
       "      <th>946</th>\n",
       "      <td>True</td>\n",
       "      <td>171.63</td>\n",
       "      <td>103.87</td>\n",
       "      <td>104.66</td>\n",
       "      <td>NaN</td>\n",
       "      <td>3.27</td>\n",
       "      <td>112.68</td>\n",
       "    </tr>\n",
       "    <tr>\n",
       "      <th>981</th>\n",
       "      <td>True</td>\n",
       "      <td>172.02</td>\n",
       "      <td>104.23</td>\n",
       "      <td>103.72</td>\n",
       "      <td>NaN</td>\n",
       "      <td>2.99</td>\n",
       "      <td>113.37</td>\n",
       "    </tr>\n",
       "    <tr>\n",
       "      <th>1076</th>\n",
       "      <td>False</td>\n",
       "      <td>171.57</td>\n",
       "      <td>104.27</td>\n",
       "      <td>104.44</td>\n",
       "      <td>NaN</td>\n",
       "      <td>3.21</td>\n",
       "      <td>111.87</td>\n",
       "    </tr>\n",
       "    <tr>\n",
       "      <th>1121</th>\n",
       "      <td>False</td>\n",
       "      <td>171.40</td>\n",
       "      <td>104.38</td>\n",
       "      <td>104.19</td>\n",
       "      <td>NaN</td>\n",
       "      <td>3.17</td>\n",
       "      <td>112.39</td>\n",
       "    </tr>\n",
       "    <tr>\n",
       "      <th>1176</th>\n",
       "      <td>False</td>\n",
       "      <td>171.59</td>\n",
       "      <td>104.05</td>\n",
       "      <td>103.94</td>\n",
       "      <td>NaN</td>\n",
       "      <td>3.02</td>\n",
       "      <td>111.29</td>\n",
       "    </tr>\n",
       "    <tr>\n",
       "      <th>1303</th>\n",
       "      <td>False</td>\n",
       "      <td>172.17</td>\n",
       "      <td>104.49</td>\n",
       "      <td>103.76</td>\n",
       "      <td>NaN</td>\n",
       "      <td>2.93</td>\n",
       "      <td>111.21</td>\n",
       "    </tr>\n",
       "    <tr>\n",
       "      <th>1315</th>\n",
       "      <td>False</td>\n",
       "      <td>172.08</td>\n",
       "      <td>104.15</td>\n",
       "      <td>104.17</td>\n",
       "      <td>NaN</td>\n",
       "      <td>3.40</td>\n",
       "      <td>112.29</td>\n",
       "    </tr>\n",
       "    <tr>\n",
       "      <th>1347</th>\n",
       "      <td>False</td>\n",
       "      <td>171.72</td>\n",
       "      <td>104.46</td>\n",
       "      <td>104.12</td>\n",
       "      <td>NaN</td>\n",
       "      <td>3.61</td>\n",
       "      <td>110.31</td>\n",
       "    </tr>\n",
       "    <tr>\n",
       "      <th>1435</th>\n",
       "      <td>False</td>\n",
       "      <td>172.66</td>\n",
       "      <td>104.33</td>\n",
       "      <td>104.41</td>\n",
       "      <td>NaN</td>\n",
       "      <td>3.56</td>\n",
       "      <td>111.47</td>\n",
       "    </tr>\n",
       "    <tr>\n",
       "      <th>1438</th>\n",
       "      <td>False</td>\n",
       "      <td>171.90</td>\n",
       "      <td>104.28</td>\n",
       "      <td>104.29</td>\n",
       "      <td>NaN</td>\n",
       "      <td>3.24</td>\n",
       "      <td>111.49</td>\n",
       "    </tr>\n",
       "  </tbody>\n",
       "</table>\n",
       "</div>"
      ],
      "text/plain": [
       "      is_genuine  diagonal  height_left  height_right  margin_low  margin_up  \\\n",
       "72          True    171.94       103.89        103.45         NaN       3.25   \n",
       "99          True    171.93       104.07        104.18         NaN       3.14   \n",
       "151         True    172.07       103.80        104.38         NaN       3.02   \n",
       "197         True    171.45       103.66        103.80         NaN       3.62   \n",
       "241         True    171.83       104.14        104.06         NaN       3.02   \n",
       "251         True    171.80       103.26        102.82         NaN       2.95   \n",
       "284         True    171.92       103.83        103.76         NaN       3.23   \n",
       "334         True    171.85       103.70        103.96         NaN       3.00   \n",
       "410         True    172.56       103.72        103.51         NaN       3.12   \n",
       "413         True    172.30       103.66        103.50         NaN       3.16   \n",
       "445         True    172.34       104.42        103.22         NaN       3.01   \n",
       "481         True    171.81       103.53        103.96         NaN       2.71   \n",
       "505         True    172.01       103.97        104.05         NaN       2.98   \n",
       "611         True    171.80       103.68        103.49         NaN       3.30   \n",
       "654         True    171.97       103.69        103.54         NaN       2.70   \n",
       "675         True    171.60       103.85        103.91         NaN       2.56   \n",
       "710         True    172.03       103.97        103.86         NaN       3.07   \n",
       "739         True    172.07       103.74        103.76         NaN       3.09   \n",
       "742         True    172.14       104.06        103.96         NaN       3.24   \n",
       "780         True    172.41       103.95        103.79         NaN       3.13   \n",
       "798         True    171.96       103.84        103.62         NaN       3.01   \n",
       "844         True    171.62       104.14        104.49         NaN       2.99   \n",
       "845         True    172.02       104.21        104.05         NaN       2.90   \n",
       "871         True    171.37       104.07        103.75         NaN       3.07   \n",
       "895         True    171.81       103.68        103.80         NaN       2.98   \n",
       "919         True    171.92       103.68        103.45         NaN       2.58   \n",
       "945         True    172.09       103.74        103.52         NaN       3.02   \n",
       "946         True    171.63       103.87        104.66         NaN       3.27   \n",
       "981         True    172.02       104.23        103.72         NaN       2.99   \n",
       "1076       False    171.57       104.27        104.44         NaN       3.21   \n",
       "1121       False    171.40       104.38        104.19         NaN       3.17   \n",
       "1176       False    171.59       104.05        103.94         NaN       3.02   \n",
       "1303       False    172.17       104.49        103.76         NaN       2.93   \n",
       "1315       False    172.08       104.15        104.17         NaN       3.40   \n",
       "1347       False    171.72       104.46        104.12         NaN       3.61   \n",
       "1435       False    172.66       104.33        104.41         NaN       3.56   \n",
       "1438       False    171.90       104.28        104.29         NaN       3.24   \n",
       "\n",
       "      length  \n",
       "72    112.79  \n",
       "99    113.08  \n",
       "151   112.93  \n",
       "197   113.27  \n",
       "241   112.36  \n",
       "251   113.22  \n",
       "284   113.29  \n",
       "334   113.36  \n",
       "410   112.95  \n",
       "413   112.95  \n",
       "445   112.97  \n",
       "481   113.99  \n",
       "505   113.65  \n",
       "611   112.84  \n",
       "654   112.79  \n",
       "675   113.27  \n",
       "710   112.65  \n",
       "739   112.41  \n",
       "742   113.07  \n",
       "780   113.41  \n",
       "798   114.44  \n",
       "844   113.35  \n",
       "845   113.62  \n",
       "871   113.27  \n",
       "895   113.82  \n",
       "919   113.68  \n",
       "945   112.78  \n",
       "946   112.68  \n",
       "981   113.37  \n",
       "1076  111.87  \n",
       "1121  112.39  \n",
       "1176  111.29  \n",
       "1303  111.21  \n",
       "1315  112.29  \n",
       "1347  110.31  \n",
       "1435  111.47  \n",
       "1438  111.49  "
      ]
     },
     "execution_count": 180,
     "metadata": {},
     "output_type": "execute_result"
    }
   ],
   "source": [
    "# rows contenant des valeurs manquantes\n",
    "ma = data['margin_low'].isna()\n",
    "data[ma]"
   ]
  },
  {
   "cell_type": "markdown",
   "metadata": {},
   "source": [
    "## Imputation des données avec la regression linéaire"
   ]
  },
  {
   "cell_type": "code",
   "execution_count": 181,
   "metadata": {},
   "outputs": [],
   "source": [
    "# On enlève la colonne \"is_genuine\" car c'est une colonne qualitative\n",
    "\n",
    "df = data.drop(columns='is_genuine')"
   ]
  },
  {
   "cell_type": "markdown",
   "metadata": {},
   "source": [
    "Nous allons séparer notre dataset en train et test afin d'entrainer notre modèle et ainsi pouvoir prédire les données manquantes dans la colonne margin_low"
   ]
  },
  {
   "cell_type": "code",
   "execution_count": 182,
   "metadata": {},
   "outputs": [
    {
     "name": "stderr",
     "output_type": "stream",
     "text": [
      "/var/folders/2z/22mpdqgj5fdd961v6vtrpb7h0000gn/T/ipykernel_11219/758567838.py:15: SettingWithCopyWarning: \n",
      "A value is trying to be set on a copy of a slice from a DataFrame.\n",
      "Try using .loc[row_indexer,col_indexer] = value instead\n",
      "\n",
      "See the caveats in the documentation: https://pandas.pydata.org/pandas-docs/stable/user_guide/indexing.html#returning-a-view-versus-a-copy\n",
      "  imput_train[\"margin_low_pred\"] = reg_lin.predict(x_train)\n"
     ]
    }
   ],
   "source": [
    "# séparation des donnees manquantes du reste des données:\n",
    "imput_train = data.dropna()\n",
    "imput_test = data[data.isnull().any(axis=1)]\n",
    "\n",
    "# création des datasets x_train et y_train pour entrainer le modèle:\n",
    "x_train = imput_train.drop(\"margin_low\", axis=1)\n",
    "y_train = imput_train[\"margin_low\"]\n",
    "\n",
    "# implantation du modèle utilisé pour l'imputation, la regression linéaire:\n",
    "reg_lin = linear_model.LinearRegression()\n",
    "model_reg_lin = reg_lin.fit(x_train, y_train)\n",
    "\n",
    "# Predictions avec le dataset train:\n",
    "x_train = imput_train[[\"is_genuine\",\"diagonal\",\"height_left\",\"height_right\", \"margin_up\", \"length\"]]\n",
    "imput_train[\"margin_low_pred\"] = reg_lin.predict(x_train)"
   ]
  },
  {
   "cell_type": "markdown",
   "metadata": {},
   "source": [
    "Avant de pouvoir utiliser notre modèle pour le dataset de test, nous devons tout d'abord le valider à l'aide d'une série de tests."
   ]
  },
  {
   "cell_type": "code",
   "execution_count": 183,
   "metadata": {},
   "outputs": [
    {
     "name": "stdout",
     "output_type": "stream",
     "text": [
      "                            OLS Regression Results                            \n",
      "==============================================================================\n",
      "Dep. Variable:             margin_low   R-squared:                       0.477\n",
      "Model:                            OLS   Adj. R-squared:                  0.476\n",
      "Method:                 Least Squares   F-statistic:                     266.1\n",
      "Date:                Sun, 14 Aug 2022   Prob (F-statistic):          2.60e-202\n",
      "Time:                        17:51:03   Log-Likelihood:                -1001.3\n",
      "No. Observations:                1463   AIC:                             2015.\n",
      "Df Residuals:                    1457   BIC:                             2046.\n",
      "Df Model:                           5                                         \n",
      "Covariance Type:            nonrobust                                         \n",
      "================================================================================\n",
      "                   coef    std err          t      P>|t|      [0.025      0.975]\n",
      "--------------------------------------------------------------------------------\n",
      "Intercept       22.9948      9.656      2.382      0.017       4.055      41.935\n",
      "diagonal        -0.1111      0.041     -2.680      0.007      -0.192      -0.030\n",
      "height_left      0.1841      0.045      4.113      0.000       0.096       0.272\n",
      "height_right     0.2571      0.043      5.978      0.000       0.173       0.342\n",
      "margin_up        0.2562      0.064      3.980      0.000       0.130       0.382\n",
      "length          -0.4091      0.018    -22.627      0.000      -0.445      -0.374\n",
      "==============================================================================\n",
      "Omnibus:                       73.627   Durbin-Watson:                   1.893\n",
      "Prob(Omnibus):                  0.000   Jarque-Bera (JB):               95.862\n",
      "Skew:                           0.482   Prob(JB):                     1.53e-21\n",
      "Kurtosis:                       3.801   Cond. No.                     1.94e+05\n",
      "==============================================================================\n",
      "\n",
      "Notes:\n",
      "[1] Standard Errors assume that the covariance matrix of the errors is correctly specified.\n",
      "[2] The condition number is large, 1.94e+05. This might indicate that there are\n",
      "strong multicollinearity or other numerical problems.\n"
     ]
    }
   ],
   "source": [
    "import statsmodels.formula.api as smf\n",
    "\n",
    "# Instanciation:\n",
    "reg_linb = smf.ols(\"margin_low ~ diagonal + height_left + height_right + margin_up + length\", data = df)\n",
    "\n",
    "# Calculs:\n",
    "res_lin = reg_linb.fit()\n",
    "print(res_lin.summary())"
   ]
  },
  {
   "cell_type": "markdown",
   "metadata": {},
   "source": [
    "Les résultats à retenir ici sont : le Rsquared ou Adj. Rsquared, Omnibus et prob(Omnibus), et enfin Jarque-Bera. "
   ]
  },
  {
   "cell_type": "markdown",
   "metadata": {},
   "source": [
    "Le Rsquared définit comment le modèle de régression expliquent les données observées. Ici notre Rsquared ajusté (car nous avons un grand nombre de valeur) est de 0.476, soit 48%. 48% de la variabilité est expliquée par le modèle."
   ]
  },
  {
   "cell_type": "markdown",
   "metadata": {},
   "source": [
    "Le test Omnibus quant à lui nous montre si les résidus sont ou non normalisés. Pour qu'il soit validé, on espère un résultat proche de 0. \n",
    "Le prob(Omnibus), lui, réalise un test statistique indiquant la probabilité que les résidus soient normalement distribués. On espère un résultat proche de 1 pour qu'il soit validé.\n",
    "\n",
    "Nous voyons ici que ni Omnibus ni prob(Omnibus) se rapprochent de leur valeur de validation, les hypothèses d'une normalisation et d'une distribution normale des résidus ne sont pas validés."
   ]
  },
  {
   "cell_type": "markdown",
   "metadata": {},
   "source": [
    "Le test de Jarque-Bera va nous montrer, comme prob(Omnibus), si les résidus sont normalement distribués. Si sa valeur est élevée, alors les résidus sont normalement distribués. Nous voyons qu'ici il est assez élevé, ce qui traduit une distribution normale des résidus. Nous allons faire un test complémentaire afin de trancher, celui de Anderson_Darling\n",
    "\n",
    "Nous partons du principe que nous avons deux hypothèses : l'hypothèse nulle (h0) d'une normalité de distribution ainsi qu'une hypothèse alternative (h1) d'une non normalité de distribution et que notre alpha_value est égal à 0.05 ."
   ]
  },
  {
   "cell_type": "code",
   "execution_count": 184,
   "metadata": {},
   "outputs": [
    {
     "name": "stdout",
     "output_type": "stream",
     "text": [
      "P-value du test d'Anderson_Darling: 3.9857722331535204e-05\n"
     ]
    },
    {
     "name": "stderr",
     "output_type": "stream",
     "text": [
      "/var/folders/2z/22mpdqgj5fdd961v6vtrpb7h0000gn/T/ipykernel_11219/1268333942.py:4: SettingWithCopyWarning: \n",
      "A value is trying to be set on a copy of a slice from a DataFrame.\n",
      "Try using .loc[row_indexer,col_indexer] = value instead\n",
      "\n",
      "See the caveats in the documentation: https://pandas.pydata.org/pandas-docs/stable/user_guide/indexing.html#returning-a-view-versus-a-copy\n",
      "  imput_train[\"residual\"] = imput_train[\"margin_low\"] - imput_train[\"margin_low_pred\"]\n"
     ]
    }
   ],
   "source": [
    "from statsmodels.stats.diagnostic import het_white , normal_ad\n",
    "\n",
    "# ajout d'une colonne avec les résidus:\n",
    "imput_train[\"residual\"] = imput_train[\"margin_low\"] - imput_train[\"margin_low_pred\"]\n",
    "\n",
    "# test d'Anderson-Darling:\n",
    "print(\"P-value du test d'Anderson_Darling:\", normal_ad(imput_train[\"residual\"])[1])"
   ]
  },
  {
   "cell_type": "code",
   "execution_count": 185,
   "metadata": {},
   "outputs": [
    {
     "data": {
      "image/png": "[encoded data removed]",
      "text/plain": [
       "<Figure size 432x288 with 1 Axes>"
      ]
     },
     "metadata": {
      "needs_background": "light"
     },
     "output_type": "display_data"
    }
   ],
   "source": [
    "import pylab as py\n",
    "import statsmodels.api as sm\n",
    "\n",
    "sm.qqplot(imput_train[\"residual\"], line ='45')\n",
    "py.show()"
   ]
  },
  {
   "cell_type": "markdown",
   "metadata": {},
   "source": [
    "La p-value de ce test est inférieur à notre alpha value. De ce fait, nous rejetons l'hypothèse nulle d'une normalité de distribution. Nous pouvons le confirmer également sur le QQ plot (quantile-quantile plot) que les points ne sont pas sur la ligne rouge, signe que les résidus ne suivent pas une distribution normale."
   ]
  },
  {
   "cell_type": "code",
   "execution_count": 186,
   "metadata": {},
   "outputs": [
    {
     "name": "stdout",
     "output_type": "stream",
     "text": [
      "VIF par features:\n",
      " diagonal        170566.670778\n",
      "height_left     111895.309916\n",
      "height_right    100858.864433\n",
      "margin_up          261.969190\n",
      "length           22708.222743\n",
      "dtype: float64\n",
      "VIF moyen: 81258.20741161003\n"
     ]
    }
   ],
   "source": [
    "from statsmodels.stats.outliers_influence import variance_inflation_factor\n",
    "\n",
    "#Multicollinearite:\n",
    "vif= pd.Series([variance_inflation_factor(imput_train[[\"diagonal\",\"height_left\",\"height_right\", \"margin_up\", \"length\"]].values, i)\n",
    "               for i in range(imput_train[[\"diagonal\",\"height_left\",\"height_right\", \"margin_up\", \"length\"]].shape[1])],\n",
    "              index=imput_train[[\"diagonal\",\"height_left\",\"height_right\", \"margin_up\", \"length\"]].columns)\n",
    "print(\"VIF par features:\\n\", vif)\n",
    "print(\"VIF moyen:\",vif.mean())\n",
    "\n",
    "# On est oblige d'enlever ''is_genuine'' puisque c'est une variables qualitative."
   ]
  },
  {
   "cell_type": "markdown",
   "metadata": {},
   "source": [
    "Le VIF (Variance Inflation Factor ou Facteur d'Inflation de la Variation (FIV)) évalue si les facteurs sont corrélés les uns aux autres (on parle alors de multicolinéarité). On remarque ici une très grande colinéarité au vu des grandes valeurs du VIF."
   ]
  },
  {
   "cell_type": "markdown",
   "metadata": {},
   "source": [
    "Le test de White va nous montrer s'il y a ou non une homoscédasticité (une égalité dans la variance entre les résidus). S'il y en a pas, il y a donc une hétérodasticité. Nous partons du principe que nous avons une hypothèse nulle où il y aurait une homoscédasticité et une hypothèse alternative où il y aurait une hétéroscédasticité."
   ]
  },
  {
   "cell_type": "code",
   "execution_count": 187,
   "metadata": {},
   "outputs": [
    {
     "name": "stdout",
     "output_type": "stream",
     "text": [
      "{'Test Statistic': 109.86015196905154, 'p-value': 2.0828244986387825e-14, 'F-Statistic': 5.853731207823728, 'F-Test p-value': 4.974865091826376e-15}\n"
     ]
    }
   ],
   "source": [
    "white_test = het_white(res_lin.resid, res_lin.model.exog)\n",
    "labels_white_test = [\"Test Statistic\", \"p-value\", \"F-Statistic\", \"F-Test p-value\"]\n",
    "print(dict(zip(labels_white_test, white_test)))"
   ]
  },
  {
   "cell_type": "markdown",
   "metadata": {},
   "source": [
    "Nous voyons que la p-value est inférieur à l'alpha value de 0.05, de ce fait nous rejettons l'hypothèse nulle."
   ]
  },
  {
   "cell_type": "markdown",
   "metadata": {},
   "source": [
    "Nous voyons ici que le modèle regression linéaire n'est pas adapté à l'impuatation des données. Mais comme il est demandé d'utiliser cette méthode nous allons le faire."
   ]
  },
  {
   "cell_type": "code",
   "execution_count": 188,
   "metadata": {},
   "outputs": [
    {
     "name": "stderr",
     "output_type": "stream",
     "text": [
      "/var/folders/2z/22mpdqgj5fdd961v6vtrpb7h0000gn/T/ipykernel_11219/2403433188.py:3: SettingWithCopyWarning: \n",
      "A value is trying to be set on a copy of a slice from a DataFrame.\n",
      "Try using .loc[row_indexer,col_indexer] = value instead\n",
      "\n",
      "See the caveats in the documentation: https://pandas.pydata.org/pandas-docs/stable/user_guide/indexing.html#returning-a-view-versus-a-copy\n",
      "  imput_test[\"margin_low\"] = reg_lin.predict(x_test)\n"
     ]
    }
   ],
   "source": [
    "# préparation des datasets pour test du modèle\n",
    "x_test = imput_test[[\"is_genuine\",\"diagonal\",\"height_left\",\"height_right\", \"margin_up\",\"length\"]]\n",
    "imput_test[\"margin_low\"] = reg_lin.predict(x_test)\n",
    "reg_lin_result = [imput_test, imput_train]\n",
    "imputed_df = pd.concat(reg_lin_result)\n",
    "imputed_df = imputed_df.drop([\"margin_low_pred\", \"residual\"], axis=1)"
   ]
  },
  {
   "cell_type": "code",
   "execution_count": 189,
   "metadata": {},
   "outputs": [
    {
     "data": {
      "text/html": [
       "<div>\n",
       "<style scoped>\n",
       "    .dataframe tbody tr th:only-of-type {\n",
       "        vertical-align: middle;\n",
       "    }\n",
       "\n",
       "    .dataframe tbody tr th {\n",
       "        vertical-align: top;\n",
       "    }\n",
       "\n",
       "    .dataframe thead th {\n",
       "        text-align: right;\n",
       "    }\n",
       "</style>\n",
       "<table border=\"1\" class=\"dataframe\">\n",
       "  <thead>\n",
       "    <tr style=\"text-align: right;\">\n",
       "      <th></th>\n",
       "      <th>diagonal</th>\n",
       "      <th>height_left</th>\n",
       "      <th>height_right</th>\n",
       "      <th>margin_low</th>\n",
       "      <th>margin_up</th>\n",
       "      <th>length</th>\n",
       "    </tr>\n",
       "  </thead>\n",
       "  <tbody>\n",
       "    <tr>\n",
       "      <th>count</th>\n",
       "      <td>1500.000000</td>\n",
       "      <td>1500.000000</td>\n",
       "      <td>1500.000000</td>\n",
       "      <td>1463.000000</td>\n",
       "      <td>1500.000000</td>\n",
       "      <td>1500.00000</td>\n",
       "    </tr>\n",
       "    <tr>\n",
       "      <th>mean</th>\n",
       "      <td>171.958440</td>\n",
       "      <td>104.029533</td>\n",
       "      <td>103.920307</td>\n",
       "      <td>4.485967</td>\n",
       "      <td>3.151473</td>\n",
       "      <td>112.67850</td>\n",
       "    </tr>\n",
       "    <tr>\n",
       "      <th>std</th>\n",
       "      <td>0.305195</td>\n",
       "      <td>0.299462</td>\n",
       "      <td>0.325627</td>\n",
       "      <td>0.663813</td>\n",
       "      <td>0.231813</td>\n",
       "      <td>0.87273</td>\n",
       "    </tr>\n",
       "    <tr>\n",
       "      <th>min</th>\n",
       "      <td>171.040000</td>\n",
       "      <td>103.140000</td>\n",
       "      <td>102.820000</td>\n",
       "      <td>2.980000</td>\n",
       "      <td>2.270000</td>\n",
       "      <td>109.49000</td>\n",
       "    </tr>\n",
       "    <tr>\n",
       "      <th>25%</th>\n",
       "      <td>171.750000</td>\n",
       "      <td>103.820000</td>\n",
       "      <td>103.710000</td>\n",
       "      <td>4.015000</td>\n",
       "      <td>2.990000</td>\n",
       "      <td>112.03000</td>\n",
       "    </tr>\n",
       "    <tr>\n",
       "      <th>50%</th>\n",
       "      <td>171.960000</td>\n",
       "      <td>104.040000</td>\n",
       "      <td>103.920000</td>\n",
       "      <td>4.310000</td>\n",
       "      <td>3.140000</td>\n",
       "      <td>112.96000</td>\n",
       "    </tr>\n",
       "    <tr>\n",
       "      <th>75%</th>\n",
       "      <td>172.170000</td>\n",
       "      <td>104.230000</td>\n",
       "      <td>104.150000</td>\n",
       "      <td>4.870000</td>\n",
       "      <td>3.310000</td>\n",
       "      <td>113.34000</td>\n",
       "    </tr>\n",
       "    <tr>\n",
       "      <th>max</th>\n",
       "      <td>173.010000</td>\n",
       "      <td>104.880000</td>\n",
       "      <td>104.950000</td>\n",
       "      <td>6.900000</td>\n",
       "      <td>3.910000</td>\n",
       "      <td>114.44000</td>\n",
       "    </tr>\n",
       "  </tbody>\n",
       "</table>\n",
       "</div>"
      ],
      "text/plain": [
       "          diagonal  height_left  height_right   margin_low    margin_up  \\\n",
       "count  1500.000000  1500.000000   1500.000000  1463.000000  1500.000000   \n",
       "mean    171.958440   104.029533    103.920307     4.485967     3.151473   \n",
       "std       0.305195     0.299462      0.325627     0.663813     0.231813   \n",
       "min     171.040000   103.140000    102.820000     2.980000     2.270000   \n",
       "25%     171.750000   103.820000    103.710000     4.015000     2.990000   \n",
       "50%     171.960000   104.040000    103.920000     4.310000     3.140000   \n",
       "75%     172.170000   104.230000    104.150000     4.870000     3.310000   \n",
       "max     173.010000   104.880000    104.950000     6.900000     3.910000   \n",
       "\n",
       "           length  \n",
       "count  1500.00000  \n",
       "mean    112.67850  \n",
       "std       0.87273  \n",
       "min     109.49000  \n",
       "25%     112.03000  \n",
       "50%     112.96000  \n",
       "75%     113.34000  \n",
       "max     114.44000  "
      ]
     },
     "execution_count": 189,
     "metadata": {},
     "output_type": "execute_result"
    }
   ],
   "source": [
    "data.describe()"
   ]
  },
  {
   "cell_type": "code",
   "execution_count": 190,
   "metadata": {},
   "outputs": [
    {
     "data": {
      "text/html": [
       "<div>\n",
       "<style scoped>\n",
       "    .dataframe tbody tr th:only-of-type {\n",
       "        vertical-align: middle;\n",
       "    }\n",
       "\n",
       "    .dataframe tbody tr th {\n",
       "        vertical-align: top;\n",
       "    }\n",
       "\n",
       "    .dataframe thead th {\n",
       "        text-align: right;\n",
       "    }\n",
       "</style>\n",
       "<table border=\"1\" class=\"dataframe\">\n",
       "  <thead>\n",
       "    <tr style=\"text-align: right;\">\n",
       "      <th></th>\n",
       "      <th>diagonal</th>\n",
       "      <th>height_left</th>\n",
       "      <th>height_right</th>\n",
       "      <th>margin_low</th>\n",
       "      <th>margin_up</th>\n",
       "      <th>length</th>\n",
       "    </tr>\n",
       "  </thead>\n",
       "  <tbody>\n",
       "    <tr>\n",
       "      <th>count</th>\n",
       "      <td>1500.000000</td>\n",
       "      <td>1500.000000</td>\n",
       "      <td>1500.000000</td>\n",
       "      <td>1500.000000</td>\n",
       "      <td>1500.000000</td>\n",
       "      <td>1500.00000</td>\n",
       "    </tr>\n",
       "    <tr>\n",
       "      <th>mean</th>\n",
       "      <td>171.958440</td>\n",
       "      <td>104.029533</td>\n",
       "      <td>103.920307</td>\n",
       "      <td>4.482844</td>\n",
       "      <td>3.151473</td>\n",
       "      <td>112.67850</td>\n",
       "    </tr>\n",
       "    <tr>\n",
       "      <th>std</th>\n",
       "      <td>0.305195</td>\n",
       "      <td>0.299462</td>\n",
       "      <td>0.325627</td>\n",
       "      <td>0.659899</td>\n",
       "      <td>0.231813</td>\n",
       "      <td>0.87273</td>\n",
       "    </tr>\n",
       "    <tr>\n",
       "      <th>min</th>\n",
       "      <td>171.040000</td>\n",
       "      <td>103.140000</td>\n",
       "      <td>102.820000</td>\n",
       "      <td>2.980000</td>\n",
       "      <td>2.270000</td>\n",
       "      <td>109.49000</td>\n",
       "    </tr>\n",
       "    <tr>\n",
       "      <th>25%</th>\n",
       "      <td>171.750000</td>\n",
       "      <td>103.820000</td>\n",
       "      <td>103.710000</td>\n",
       "      <td>4.027500</td>\n",
       "      <td>2.990000</td>\n",
       "      <td>112.03000</td>\n",
       "    </tr>\n",
       "    <tr>\n",
       "      <th>50%</th>\n",
       "      <td>171.960000</td>\n",
       "      <td>104.040000</td>\n",
       "      <td>103.920000</td>\n",
       "      <td>4.310000</td>\n",
       "      <td>3.140000</td>\n",
       "      <td>112.96000</td>\n",
       "    </tr>\n",
       "    <tr>\n",
       "      <th>75%</th>\n",
       "      <td>172.170000</td>\n",
       "      <td>104.230000</td>\n",
       "      <td>104.150000</td>\n",
       "      <td>4.870000</td>\n",
       "      <td>3.310000</td>\n",
       "      <td>113.34000</td>\n",
       "    </tr>\n",
       "    <tr>\n",
       "      <th>max</th>\n",
       "      <td>173.010000</td>\n",
       "      <td>104.880000</td>\n",
       "      <td>104.950000</td>\n",
       "      <td>6.900000</td>\n",
       "      <td>3.910000</td>\n",
       "      <td>114.44000</td>\n",
       "    </tr>\n",
       "  </tbody>\n",
       "</table>\n",
       "</div>"
      ],
      "text/plain": [
       "          diagonal  height_left  height_right   margin_low    margin_up  \\\n",
       "count  1500.000000  1500.000000   1500.000000  1500.000000  1500.000000   \n",
       "mean    171.958440   104.029533    103.920307     4.482844     3.151473   \n",
       "std       0.305195     0.299462      0.325627     0.659899     0.231813   \n",
       "min     171.040000   103.140000    102.820000     2.980000     2.270000   \n",
       "25%     171.750000   103.820000    103.710000     4.027500     2.990000   \n",
       "50%     171.960000   104.040000    103.920000     4.310000     3.140000   \n",
       "75%     172.170000   104.230000    104.150000     4.870000     3.310000   \n",
       "max     173.010000   104.880000    104.950000     6.900000     3.910000   \n",
       "\n",
       "           length  \n",
       "count  1500.00000  \n",
       "mean    112.67850  \n",
       "std       0.87273  \n",
       "min     109.49000  \n",
       "25%     112.03000  \n",
       "50%     112.96000  \n",
       "75%     113.34000  \n",
       "max     114.44000  "
      ]
     },
     "execution_count": 190,
     "metadata": {},
     "output_type": "execute_result"
    }
   ],
   "source": [
    "imputed_df.describe()"
   ]
  },
  {
   "cell_type": "markdown",
   "metadata": {},
   "source": [
    "Pas beaucoup de changement entre le dataframe imputé et non imputé, seuls le count, la moyenne, le premier quartile (25%) ont changé suite à l'imputation de la colonne margin_low."
   ]
  },
  {
   "cell_type": "code",
   "execution_count": 191,
   "metadata": {},
   "outputs": [
    {
     "data": {
      "text/plain": [
       "<AxesSubplot:>"
      ]
     },
     "execution_count": 191,
     "metadata": {},
     "output_type": "execute_result"
    },
    {
     "data": {
      "image/png": "[encoded data removed]",
      "text/plain": [
       "<Figure size 432x288 with 2 Axes>"
      ]
     },
     "metadata": {
      "needs_background": "light"
     },
     "output_type": "display_data"
    }
   ],
   "source": [
    "sns.heatmap(imputed_df.drop(columns='is_genuine').corr(), annot=True)"
   ]
  },
  {
   "cell_type": "markdown",
   "metadata": {},
   "source": [
    "## Implantation du modèle prédictif utilisant les Kmeans"
   ]
  },
  {
   "cell_type": "markdown",
   "metadata": {},
   "source": [
    "Méthodes pour choisir la valeur optimale pour K."
   ]
  },
  {
   "cell_type": "code",
   "execution_count": 192,
   "metadata": {},
   "outputs": [
    {
     "data": {
      "text/html": [
       "<div>\n",
       "<style scoped>\n",
       "    .dataframe tbody tr th:only-of-type {\n",
       "        vertical-align: middle;\n",
       "    }\n",
       "\n",
       "    .dataframe tbody tr th {\n",
       "        vertical-align: top;\n",
       "    }\n",
       "\n",
       "    .dataframe thead th {\n",
       "        text-align: right;\n",
       "    }\n",
       "</style>\n",
       "<table border=\"1\" class=\"dataframe\">\n",
       "  <thead>\n",
       "    <tr style=\"text-align: right;\">\n",
       "      <th></th>\n",
       "      <th>diagonal</th>\n",
       "      <th>height_left</th>\n",
       "      <th>height_right</th>\n",
       "      <th>margin_up</th>\n",
       "      <th>length</th>\n",
       "      <th>margin_low</th>\n",
       "    </tr>\n",
       "  </thead>\n",
       "  <tbody>\n",
       "    <tr>\n",
       "      <th>72</th>\n",
       "      <td>171.94</td>\n",
       "      <td>103.89</td>\n",
       "      <td>103.45</td>\n",
       "      <td>3.25</td>\n",
       "      <td>112.79</td>\n",
       "      <td>4.064954</td>\n",
       "    </tr>\n",
       "    <tr>\n",
       "      <th>99</th>\n",
       "      <td>171.93</td>\n",
       "      <td>104.07</td>\n",
       "      <td>104.18</td>\n",
       "      <td>3.14</td>\n",
       "      <td>113.08</td>\n",
       "      <td>4.111990</td>\n",
       "    </tr>\n",
       "    <tr>\n",
       "      <th>151</th>\n",
       "      <td>172.07</td>\n",
       "      <td>103.80</td>\n",
       "      <td>104.38</td>\n",
       "      <td>3.02</td>\n",
       "      <td>112.93</td>\n",
       "      <td>4.134003</td>\n",
       "    </tr>\n",
       "    <tr>\n",
       "      <th>197</th>\n",
       "      <td>171.45</td>\n",
       "      <td>103.66</td>\n",
       "      <td>103.80</td>\n",
       "      <td>3.62</td>\n",
       "      <td>113.27</td>\n",
       "      <td>3.993571</td>\n",
       "    </tr>\n",
       "    <tr>\n",
       "      <th>241</th>\n",
       "      <td>171.83</td>\n",
       "      <td>104.14</td>\n",
       "      <td>104.06</td>\n",
       "      <td>3.02</td>\n",
       "      <td>112.36</td>\n",
       "      <td>4.140399</td>\n",
       "    </tr>\n",
       "  </tbody>\n",
       "</table>\n",
       "</div>"
      ],
      "text/plain": [
       "     diagonal  height_left  height_right  margin_up  length  margin_low\n",
       "72     171.94       103.89        103.45       3.25  112.79    4.064954\n",
       "99     171.93       104.07        104.18       3.14  113.08    4.111990\n",
       "151    172.07       103.80        104.38       3.02  112.93    4.134003\n",
       "197    171.45       103.66        103.80       3.62  113.27    3.993571\n",
       "241    171.83       104.14        104.06       3.02  112.36    4.140399"
      ]
     },
     "execution_count": 192,
     "metadata": {},
     "output_type": "execute_result"
    }
   ],
   "source": [
    "# feature columns\n",
    "df_features = pd.DataFrame(imputed_df[[\"diagonal\", \"height_left\", \"height_right\", \"margin_up\", \"length\", \"margin_low\"]])\n",
    "df_features.head(5)"
   ]
  },
  {
   "cell_type": "code",
   "execution_count": 193,
   "metadata": {},
   "outputs": [
    {
     "name": "stdout",
     "output_type": "stream",
     "text": [
      "       diagonal  height_left  height_right  margin_up   length  margin_low\n",
      "count   1500.00      1500.00       1500.00    1500.00  1500.00     1500.00\n",
      "mean       0.00         0.00         -0.00      -0.00     0.00       -0.00\n",
      "std        1.00         1.00          1.00       1.00     1.00        1.00\n",
      "min       -3.01        -2.97         -3.38      -3.80    -3.65       -2.28\n",
      "25%       -0.68        -0.70         -0.65      -0.70    -0.74       -0.69\n",
      "50%        0.01         0.03         -0.00      -0.05     0.32       -0.26\n",
      "75%        0.69         0.67          0.71       0.68     0.76        0.59\n",
      "max        3.45         2.84          3.16       3.27     2.02        3.66\n"
     ]
    }
   ],
   "source": [
    "from sklearn.preprocessing import StandardScaler\n",
    "\n",
    "scaler = StandardScaler()\n",
    "scaler.fit(df_features)\n",
    "data_scaled = scaler.transform(df_features)\n",
    "data_scaled= pd.DataFrame(data=data_scaled, index=df_features.index, columns=df_features.columns)\n",
    "print(data_scaled.describe().round(2))"
   ]
  },
  {
   "cell_type": "code",
   "execution_count": 194,
   "metadata": {},
   "outputs": [
    {
     "name": "stdout",
     "output_type": "stream",
     "text": [
      "[0.43211292 0.60168469 0.73187739 0.85011786 0.94674888 1.        ]\n"
     ]
    }
   ],
   "source": [
    "from sklearn.decomposition import PCA\n",
    "\n",
    "pca = PCA()\n",
    "\n",
    "principalComponents = pca.fit_transform(data_scaled)\n",
    "\n",
    "principalDataframe = pd.DataFrame(data = principalComponents, columns = ['PC1', 'PC2', 'PC3', 'PC4', 'PC5', 'PC6'])\n",
    "\n",
    "print(pca.explained_variance_ratio_.cumsum())\n",
    "\n",
    "# on utilisera ici 3 PC car ils couvrent 73% de la variance expliquée"
   ]
  },
  {
   "cell_type": "code",
   "execution_count": 195,
   "metadata": {},
   "outputs": [
    {
     "data": {
      "image/png": "[encoded data removed]",
      "text/plain": [
       "<Figure size 720x720 with 1 Axes>"
      ]
     },
     "metadata": {
      "needs_background": "light"
     },
     "output_type": "display_data"
    },
    {
     "data": {
      "image/png": "[encoded data removed]",
      "text/plain": [
       "<Figure size 720x720 with 1 Axes>"
      ]
     },
     "metadata": {
      "needs_background": "light"
     },
     "output_type": "display_data"
    }
   ],
   "source": [
    "pca = PCA(n_components=3)\n",
    "\n",
    "pc = pca.fit_transform(df_features)\n",
    "\n",
    "df_pc = pd.DataFrame(data = pc, columns = ['PC1', 'PC2', 'PC3'])\n",
    "\n",
    "# cercles de corrélation pour les 3 composantes principales\n",
    "from mlxtend.plotting import plot_pca_correlation_graph\n",
    "\n",
    "\n",
    "\n",
    "feature_names = [\n",
    "  'diagonal', \n",
    "  'height_left', \n",
    "  'height_right', \n",
    "  'margin_up',\n",
    "  'length', \n",
    "  'margin_low']\n",
    "\n",
    "figure = plot_pca_correlation_graph(data_scaled,feature_names,dimensions=(1,2),figure_axis_size=10)\n",
    "figure = plot_pca_correlation_graph(data_scaled,feature_names,dimensions=(2,3),figure_axis_size=10)"
   ]
  },
  {
   "cell_type": "code",
   "execution_count": 196,
   "metadata": {},
   "outputs": [
    {
     "data": {
      "image/png": "[encoded data removed]",
      "text/plain": [
       "<Figure size 432x288 with 1 Axes>"
      ]
     },
     "metadata": {
      "needs_background": "light"
     },
     "output_type": "display_data"
    }
   ],
   "source": [
    "plt.scatter(df_pc.PC1, df_pc.PC2)\n",
    "plt.title('Visualisation data après PCA')\n",
    "plt.xlabel('PC1')\n",
    "plt.ylabel('PC2')\n",
    "plt.show()"
   ]
  },
  {
   "cell_type": "markdown",
   "metadata": {},
   "source": [
    "Méthode du coude"
   ]
  },
  {
   "cell_type": "code",
   "execution_count": 197,
   "metadata": {},
   "outputs": [
    {
     "data": {
      "image/png": "[encoded data removed]",
      "text/plain": [
       "<Figure size 432x288 with 1 Axes>"
      ]
     },
     "metadata": {
      "needs_background": "light"
     },
     "output_type": "display_data"
    }
   ],
   "source": [
    "X = df_features\n",
    "\n",
    "distortions = []\n",
    "inertias = []\n",
    "mapping1 = {}\n",
    "mapping2 = {}\n",
    "K = range(1, 10)\n",
    "\n",
    "for k in K:\n",
    "\t# Building and fitting the model\n",
    "\tkmeanModel = KMeans(n_clusters=k).fit(X)\n",
    "\tkmeanModel.fit(X)\n",
    "\n",
    "\tdistortions.append(sum(np.min(cdist(X, kmeanModel.cluster_centers_,\n",
    "\t\t\t\t\t\t\t\t\t\t'euclidean'), axis=1)) / X.shape[0])\n",
    "\tinertias.append(kmeanModel.inertia_)\n",
    "\n",
    "\tmapping1[k] = sum(np.min(cdist(X, kmeanModel.cluster_centers_,\n",
    "\t\t\t\t\t\t\t\t'euclidean'), axis=1)) / X.shape[0]\n",
    "\tmapping2[k] = kmeanModel.inertia_\n",
    "\n",
    "plt.plot(K, inertias, 'bx-')\n",
    "plt.xlabel('K')\n",
    "plt.title('Elbow Method to define K')\n",
    "plt.show()"
   ]
  },
  {
   "cell_type": "markdown",
   "metadata": {},
   "source": [
    "Ici, la valeur optimale pour K est 2 car la courbe devient plus lisse à partir de 2."
   ]
  },
  {
   "cell_type": "markdown",
   "metadata": {},
   "source": [
    "Méthode de la silhouette"
   ]
  },
  {
   "cell_type": "code",
   "execution_count": 198,
   "metadata": {},
   "outputs": [
    {
     "name": "stdout",
     "output_type": "stream",
     "text": [
      "Silhouette score for k(clusters) = 2 is 0.5150031529505773\n",
      "Silhouette score for k(clusters) = 3 is 0.3863010249194272\n",
      "Silhouette score for k(clusters) = 4 is 0.17170906646425446\n",
      "Silhouette score for k(clusters) = 5 is 0.16944571764731553\n",
      "Silhouette score for k(clusters) = 6 is 0.1537450882578071\n",
      "Silhouette score for k(clusters) = 7 is 0.14893607573715956\n",
      "Silhouette score for k(clusters) = 8 is 0.15339597809151898\n",
      "Silhouette score for k(clusters) = 9 is 0.15041848464981647\n"
     ]
    }
   ],
   "source": [
    "import sklearn.metrics as metrics\n",
    "import sklearn.cluster as cluster\n",
    "\n",
    "\n",
    "for i in range(2,10):\n",
    "    labels=cluster.KMeans(n_clusters=i,init=\"k-means++\",random_state=200).fit(X).labels_\n",
    "    print (\"Silhouette score for k(clusters) = \"+str(i)+\" is \"\n",
    "           +str(metrics.silhouette_score(X,labels,metric=\"euclidean\",sample_size=1000,random_state=200)))"
   ]
  },
  {
   "cell_type": "markdown",
   "metadata": {},
   "source": [
    "La valeur associée à K = 2 est la plus imposante comparé aux autres. De ce faire nous choisirons K = 2. Il y aura donc deux clusters (les vrais et faux billets)."
   ]
  },
  {
   "cell_type": "markdown",
   "metadata": {},
   "source": [
    "On voit ici que le cluster 0 regroupe les vrais billets et le cluster 1 regroupe les faux billets"
   ]
  },
  {
   "cell_type": "markdown",
   "metadata": {},
   "source": [
    "Mise en place du modèle"
   ]
  },
  {
   "cell_type": "code",
   "execution_count": 199,
   "metadata": {},
   "outputs": [
    {
     "name": "stderr",
     "output_type": "stream",
     "text": [
      "/Users/stephaniel/opt/anaconda3/lib/python3.9/site-packages/sklearn/base.py:450: UserWarning: X does not have valid feature names, but PCA was fitted with feature names\n",
      "  warnings.warn(\n"
     ]
    },
    {
     "data": {
      "image/png": "[encoded data removed]",
      "text/plain": [
       "<Figure size 432x288 with 1 Axes>"
      ]
     },
     "metadata": {
      "needs_background": "light"
     },
     "output_type": "display_data"
    }
   ],
   "source": [
    "from sklearn import decomposition\n",
    "\n",
    "\n",
    "km = KMeans(n_clusters=2) # nos deux clusters : True et False\n",
    "model_kmean = km.fit(imputed_df.drop(columns='is_genuine')) # modèle\n",
    "\n",
    "clusters_km = km.labels_ # clustermap\n",
    "centroids_km = km.cluster_centers_ #centroids pour la distribution des clusters\n",
    "\n",
    "# PCA\n",
    "pca_km = decomposition.PCA(n_components=3).fit(imputed_df[[\"diagonal\",\"height_left\",\"height_right\",\"margin_low\",\"margin_up\",\"length\"]])\n",
    "pca = PCA(n_components=3).fit_transform(imputed_df[[\"diagonal\",\"height_left\",\"height_right\",\"margin_low\",\"margin_up\",\"length\"]])\n",
    "\n",
    "# Affichage des centroids sur la cluster distribution\n",
    "centroids_km = pca_km.transform(centroids_km)\n",
    "\n",
    "# Graphique:\n",
    "for couleur,k in zip(['red',\"green\"],[0,1]):\n",
    "    plt.scatter(pca[km.labels_==k,0],pca[km.labels_==k,1],c=couleur, label=\"Cluster {}\".format(k))\n",
    "    plt.legend()\n",
    "    plt.scatter(centroids_km[:,0],centroids_km[:,1],color=\"black\",label=\"Centroides\")\n",
    "plt.title(\"Cluster Distribution\")\n",
    "plt.show()\n",
    "\n",
    "#Verrfication de la classification: Matrice de confusion:\n",
    "conf = pd.crosstab(clusters_km,imputed_df[\"is_genuine\"])"
   ]
  },
  {
   "cell_type": "code",
   "execution_count": 200,
   "metadata": {},
   "outputs": [
    {
     "data": {
      "text/plain": [
       "Text(0.5, 1.0, 'Confusion matrix pour le modèle Kmean')"
      ]
     },
     "execution_count": 200,
     "metadata": {},
     "output_type": "execute_result"
    },
    {
     "data": {
      "image/png": "[encoded data removed]",
      "text/plain": [
       "<Figure size 432x288 with 2 Axes>"
      ]
     },
     "metadata": {
      "needs_background": "light"
     },
     "output_type": "display_data"
    }
   ],
   "source": [
    "sns.heatmap(conf, annot=True, fmt='g')\n",
    "plt.xlabel(\"Prediction\")\n",
    "plt.ylabel(\"Cluster\")\n",
    "plt.title(\"Confusion matrix pour le modèle Kmean\")"
   ]
  },
  {
   "cell_type": "markdown",
   "metadata": {},
   "source": []
  },
  {
   "cell_type": "code",
   "execution_count": 201,
   "metadata": {},
   "outputs": [
    {
     "name": "stdout",
     "output_type": "stream",
     "text": [
      "[0 0 0 1 1]\n",
      "On voit que les trois premiers billets appartiennent au cluster 0 et les deux derniers au cluster 1. Les trois premiers billets sont faux tandis que les deux derniers sont vrais\n"
     ]
    }
   ],
   "source": [
    "# test du modèle sur le fichier prod\n",
    "prod = prod_raw.drop(columns='id')\n",
    "km_predict = km.predict(prod)\n",
    "\n",
    "# ajout de la colonne kmean_predict pour comparatif des resultats avec le modèle regression_logistique\n",
    "prod['kmean_predict'] = km_predict\n",
    "\n",
    "print(km_predict)\n",
    "print('On voit que les trois premiers billets appartiennent au cluster 0 et les deux derniers au cluster 1. Les trois premiers billets sont faux tandis que les deux derniers sont vrais')"
   ]
  },
  {
   "cell_type": "code",
   "execution_count": 202,
   "metadata": {},
   "outputs": [],
   "source": [
    "# ajout de la colonne kmean_pred pour comparatif des prédictions avec l'autre modèle\n",
    "prod_raw['kmean_pred'] = km_predict"
   ]
  },
  {
   "cell_type": "markdown",
   "metadata": {},
   "source": [
    "# Mise en place de la regression logistique"
   ]
  },
  {
   "cell_type": "code",
   "execution_count": 203,
   "metadata": {},
   "outputs": [],
   "source": [
    "# target : savoir si les billets sont True ou False\n",
    "y = imputed_df['is_genuine']\n",
    "\n",
    "# les features : les dimensions des billets\n",
    "x = imputed_df.drop(columns='is_genuine')\n"
   ]
  },
  {
   "cell_type": "code",
   "execution_count": 204,
   "metadata": {},
   "outputs": [],
   "source": [
    "model_reg = LogisticRegression()\n",
    "model_reg.fit(x,y)\n",
    "train_reg_pred = model_reg.predict(x)"
   ]
  },
  {
   "cell_type": "code",
   "execution_count": 205,
   "metadata": {},
   "outputs": [
    {
     "data": {
      "text/plain": [
       "Text(0.5, 1.0, 'Confusion matrix pour le modèle Regression Logistique')"
      ]
     },
     "execution_count": 205,
     "metadata": {},
     "output_type": "execute_result"
    },
    {
     "data": {
      "image/png": "[encoded data removed]",
      "text/plain": [
       "<Figure size 432x288 with 2 Axes>"
      ]
     },
     "metadata": {
      "needs_background": "light"
     },
     "output_type": "display_data"
    }
   ],
   "source": [
    "conf_reg = pd.crosstab(train_reg_pred,y)\n",
    "sns.heatmap(conf_reg, annot=True, fmt='g')\n",
    "plt.xlabel(\"prediction\")\n",
    "plt.ylabel('is_genuine')\n",
    "plt.title('Confusion matrix pour le modèle Regression Logistique')"
   ]
  },
  {
   "cell_type": "code",
   "execution_count": 212,
   "metadata": {},
   "outputs": [
    {
     "data": {
      "text/html": [
       "<div>\n",
       "<style scoped>\n",
       "    .dataframe tbody tr th:only-of-type {\n",
       "        vertical-align: middle;\n",
       "    }\n",
       "\n",
       "    .dataframe tbody tr th {\n",
       "        vertical-align: top;\n",
       "    }\n",
       "\n",
       "    .dataframe thead th {\n",
       "        text-align: right;\n",
       "    }\n",
       "</style>\n",
       "<table border=\"1\" class=\"dataframe\">\n",
       "  <thead>\n",
       "    <tr style=\"text-align: right;\">\n",
       "      <th></th>\n",
       "      <th>is_genuine</th>\n",
       "      <th>diagonal</th>\n",
       "      <th>height_left</th>\n",
       "      <th>height_right</th>\n",
       "      <th>margin_low</th>\n",
       "      <th>margin_up</th>\n",
       "      <th>length</th>\n",
       "      <th>y_pred</th>\n",
       "      <th>proba</th>\n",
       "    </tr>\n",
       "  </thead>\n",
       "  <tbody>\n",
       "    <tr>\n",
       "      <th>72</th>\n",
       "      <td>True</td>\n",
       "      <td>171.94</td>\n",
       "      <td>103.89</td>\n",
       "      <td>103.45</td>\n",
       "      <td>4.064954</td>\n",
       "      <td>3.25</td>\n",
       "      <td>112.79</td>\n",
       "      <td>True</td>\n",
       "      <td>0.011064</td>\n",
       "    </tr>\n",
       "    <tr>\n",
       "      <th>99</th>\n",
       "      <td>True</td>\n",
       "      <td>171.93</td>\n",
       "      <td>104.07</td>\n",
       "      <td>104.18</td>\n",
       "      <td>4.111990</td>\n",
       "      <td>3.14</td>\n",
       "      <td>113.08</td>\n",
       "      <td>True</td>\n",
       "      <td>0.017965</td>\n",
       "    </tr>\n",
       "    <tr>\n",
       "      <th>151</th>\n",
       "      <td>True</td>\n",
       "      <td>172.07</td>\n",
       "      <td>103.80</td>\n",
       "      <td>104.38</td>\n",
       "      <td>4.134003</td>\n",
       "      <td>3.02</td>\n",
       "      <td>112.93</td>\n",
       "      <td>True</td>\n",
       "      <td>0.024175</td>\n",
       "    </tr>\n",
       "    <tr>\n",
       "      <th>197</th>\n",
       "      <td>True</td>\n",
       "      <td>171.45</td>\n",
       "      <td>103.66</td>\n",
       "      <td>103.80</td>\n",
       "      <td>3.993571</td>\n",
       "      <td>3.62</td>\n",
       "      <td>113.27</td>\n",
       "      <td>True</td>\n",
       "      <td>0.006266</td>\n",
       "    </tr>\n",
       "    <tr>\n",
       "      <th>241</th>\n",
       "      <td>True</td>\n",
       "      <td>171.83</td>\n",
       "      <td>104.14</td>\n",
       "      <td>104.06</td>\n",
       "      <td>4.140399</td>\n",
       "      <td>3.02</td>\n",
       "      <td>112.36</td>\n",
       "      <td>True</td>\n",
       "      <td>0.159595</td>\n",
       "    </tr>\n",
       "  </tbody>\n",
       "</table>\n",
       "</div>"
      ],
      "text/plain": [
       "     is_genuine  diagonal  height_left  height_right  margin_low  margin_up  \\\n",
       "72         True    171.94       103.89        103.45    4.064954       3.25   \n",
       "99         True    171.93       104.07        104.18    4.111990       3.14   \n",
       "151        True    172.07       103.80        104.38    4.134003       3.02   \n",
       "197        True    171.45       103.66        103.80    3.993571       3.62   \n",
       "241        True    171.83       104.14        104.06    4.140399       3.02   \n",
       "\n",
       "     length  y_pred     proba  \n",
       "72   112.79    True  0.011064  \n",
       "99   113.08    True  0.017965  \n",
       "151  112.93    True  0.024175  \n",
       "197  113.27    True  0.006266  \n",
       "241  112.36    True  0.159595  "
      ]
     },
     "execution_count": 212,
     "metadata": {},
     "output_type": "execute_result"
    }
   ],
   "source": [
    "# Vue des probas selon les predictions pour le dataset de train\n",
    "imputed_df[\"y_pred\"] = model_reg.predict(x)\n",
    "imputed_df[\"proba\"] = model_reg.predict_proba(x)\n",
    "\n",
    "imputed_df.head()"
   ]
  },
  {
   "cell_type": "markdown",
   "metadata": {},
   "source": [
    "Courbe de ROC"
   ]
  },
  {
   "cell_type": "code",
   "execution_count": 207,
   "metadata": {},
   "outputs": [
    {
     "data": {
      "text/plain": [
       "<matplotlib.legend.Legend at 0x7fa969c32c40>"
      ]
     },
     "execution_count": 207,
     "metadata": {},
     "output_type": "execute_result"
    },
    {
     "data": {
      "image/png": "[encoded data removed]",
      "text/plain": [
       "<Figure size 720x720 with 1 Axes>"
      ]
     },
     "metadata": {
      "needs_background": "light"
     },
     "output_type": "display_data"
    }
   ],
   "source": [
    "# calculs des fpr, tpr et auc pour courbe ROC\n",
    "fpr, tpr, _ = roc_curve(imputed_df[\"is_genuine\"],imputed_df[\"y_pred\"])\n",
    "roc_auc = roc_auc_score(imputed_df[\"is_genuine\"],imputed_df[\"y_pred\"])\n",
    "\n",
    "# Plot de la courbe ROC\n",
    "fig, ax = plt.subplots(1, 1, figsize=(10,10))\n",
    "ax.plot([0, 1], [0, 1], 'k--')\n",
    "aucf = auc(fpr, tpr)\n",
    "plt.plot(fpr, tpr,label=\"aire sous la courbe = %0.2f\" % roc_auc)\n",
    "ax.set_title('Courbe ROC - classifieur billets train')\n",
    "ax.set_xlabel(\"FPR\")\n",
    "ax.set_ylabel(\"TPR\")\n",
    "ax.legend()"
   ]
  },
  {
   "cell_type": "markdown",
   "metadata": {},
   "source": [
    "la courbe ROC (Receiver Operating Characteristic) représente la sensibilité (x) et spécificité (y) en fonction de 1 (sensibilité  = capacité du test à bien déterminer si les billets sont vrais et sensibilité = idem mais pour déterminer si les billets sont faux). L'AUC (area under curve) permet de vérifier si modèle stable"
   ]
  },
  {
   "cell_type": "markdown",
   "metadata": {},
   "source": [
    "Test du modèle sur le dataset de test"
   ]
  },
  {
   "cell_type": "code",
   "execution_count": 208,
   "metadata": {},
   "outputs": [],
   "source": [
    "prod_reg = prod_raw.drop(columns=['id','kmean_pred'])\n",
    "pred_reg = model_reg.predict(prod_reg)"
   ]
  },
  {
   "cell_type": "code",
   "execution_count": 216,
   "metadata": {},
   "outputs": [
    {
     "name": "stdout",
     "output_type": "stream",
     "text": [
      "    id  y_pred     proba\n",
      "0  A_1   False  0.996328\n",
      "1  A_2   False  0.999426\n",
      "2  A_3   False  0.999102\n",
      "3  A_4    True  0.078777\n",
      "4  A_5    True  0.000271\n"
     ]
    }
   ],
   "source": [
    "# Vue des résultats de prédiction avec la probabilité\n",
    "prod_raw[\"y_pred\"] = model_reg.predict(prod_reg)\n",
    "prod_raw[\"proba\"] = model_reg.predict_proba(prod_reg)\n",
    "print(prod_raw[['id','y_pred','proba']])"
   ]
  },
  {
   "cell_type": "markdown",
   "metadata": {},
   "source": [
    "Nous obtenons les mêmes prédictions qu'avec le modèle Kmean"
   ]
  },
  {
   "cell_type": "code",
   "execution_count": 217,
   "metadata": {},
   "outputs": [
    {
     "data": {
      "text/html": [
       "<div>\n",
       "<style scoped>\n",
       "    .dataframe tbody tr th:only-of-type {\n",
       "        vertical-align: middle;\n",
       "    }\n",
       "\n",
       "    .dataframe tbody tr th {\n",
       "        vertical-align: top;\n",
       "    }\n",
       "\n",
       "    .dataframe thead th {\n",
       "        text-align: right;\n",
       "    }\n",
       "</style>\n",
       "<table border=\"1\" class=\"dataframe\">\n",
       "  <thead>\n",
       "    <tr style=\"text-align: right;\">\n",
       "      <th></th>\n",
       "      <th>diagonal</th>\n",
       "      <th>height_left</th>\n",
       "      <th>height_right</th>\n",
       "      <th>margin_low</th>\n",
       "      <th>margin_up</th>\n",
       "      <th>length</th>\n",
       "      <th>id</th>\n",
       "      <th>kmean_pred</th>\n",
       "      <th>y_pred</th>\n",
       "      <th>proba</th>\n",
       "    </tr>\n",
       "  </thead>\n",
       "  <tbody>\n",
       "    <tr>\n",
       "      <th>0</th>\n",
       "      <td>0.003672</td>\n",
       "      <td>171.76</td>\n",
       "      <td>104.01</td>\n",
       "      <td>103.54</td>\n",
       "      <td>5.21</td>\n",
       "      <td>3.30</td>\n",
       "      <td>A_1</td>\n",
       "      <td>0</td>\n",
       "      <td>False</td>\n",
       "      <td>0.996328</td>\n",
       "    </tr>\n",
       "    <tr>\n",
       "      <th>1</th>\n",
       "      <td>0.000574</td>\n",
       "      <td>171.87</td>\n",
       "      <td>104.17</td>\n",
       "      <td>104.13</td>\n",
       "      <td>6.00</td>\n",
       "      <td>3.31</td>\n",
       "      <td>A_2</td>\n",
       "      <td>0</td>\n",
       "      <td>False</td>\n",
       "      <td>0.999426</td>\n",
       "    </tr>\n",
       "    <tr>\n",
       "      <th>2</th>\n",
       "      <td>0.000898</td>\n",
       "      <td>172.00</td>\n",
       "      <td>104.58</td>\n",
       "      <td>104.29</td>\n",
       "      <td>4.99</td>\n",
       "      <td>3.39</td>\n",
       "      <td>A_3</td>\n",
       "      <td>0</td>\n",
       "      <td>False</td>\n",
       "      <td>0.999102</td>\n",
       "    </tr>\n",
       "    <tr>\n",
       "      <th>3</th>\n",
       "      <td>0.921223</td>\n",
       "      <td>172.49</td>\n",
       "      <td>104.55</td>\n",
       "      <td>104.34</td>\n",
       "      <td>4.44</td>\n",
       "      <td>3.03</td>\n",
       "      <td>A_4</td>\n",
       "      <td>1</td>\n",
       "      <td>True</td>\n",
       "      <td>0.078777</td>\n",
       "    </tr>\n",
       "    <tr>\n",
       "      <th>4</th>\n",
       "      <td>0.999729</td>\n",
       "      <td>171.65</td>\n",
       "      <td>103.63</td>\n",
       "      <td>103.56</td>\n",
       "      <td>3.77</td>\n",
       "      <td>3.16</td>\n",
       "      <td>A_5</td>\n",
       "      <td>1</td>\n",
       "      <td>True</td>\n",
       "      <td>0.000271</td>\n",
       "    </tr>\n",
       "  </tbody>\n",
       "</table>\n",
       "</div>"
      ],
      "text/plain": [
       "   diagonal  height_left  height_right  margin_low  margin_up  length   id  \\\n",
       "0  0.003672       171.76        104.01      103.54       5.21    3.30  A_1   \n",
       "1  0.000574       171.87        104.17      104.13       6.00    3.31  A_2   \n",
       "2  0.000898       172.00        104.58      104.29       4.99    3.39  A_3   \n",
       "3  0.921223       172.49        104.55      104.34       4.44    3.03  A_4   \n",
       "4  0.999729       171.65        103.63      103.56       3.77    3.16  A_5   \n",
       "\n",
       "   kmean_pred  y_pred     proba  \n",
       "0           0   False  0.996328  \n",
       "1           0   False  0.999426  \n",
       "2           0   False  0.999102  \n",
       "3           1    True  0.078777  \n",
       "4           1    True  0.000271  "
      ]
     },
     "execution_count": 217,
     "metadata": {},
     "output_type": "execute_result"
    }
   ],
   "source": [
    "prod_raw"
   ]
  },
  {
   "cell_type": "markdown",
   "metadata": {},
   "source": [
    "Sérialisation des models pour le notebook application"
   ]
  },
  {
   "cell_type": "code",
   "execution_count": 211,
   "metadata": {},
   "outputs": [],
   "source": [
    "# sérialisation des models pour exportation vers un nouveau notebook\n",
    "import pickle\n",
    "pickle.dump(model_kmean, open('model_kmean','wb'))\n",
    "pickle.dump(model_reg, open('model_reg','wb'))"
   ]
  }
 ],
 "metadata": {
  "kernelspec": {
   "display_name": "Python 3.9.12 ('base')",
   "language": "python",
   "name": "python3"
  },
  "language_info": {
   "codemirror_mode": {
    "name": "ipython",
    "version": 3
   },
   "file_extension": ".py",
   "mimetype": "text/x-python",
   "name": "python",
   "nbconvert_exporter": "python",
   "pygments_lexer": "ipython3",
   "version": "3.9.12"
  },
  "orig_nbformat": 4,
  "vscode": {
   "interpreter": {
    "hash": "7084a4f409bb8f93f0bf6af499b21e6a77edccefe6ffd88b42bb8ca14a769218"
   }
  }
 },
 "nbformat": 4,
 "nbformat_minor": 2
}
