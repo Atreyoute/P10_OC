{
 "cells": [
  {
   "cell_type": "code",
   "execution_count": 26,
   "metadata": {},
   "outputs": [],
   "source": [
    "import pickle\n",
    "import pandas as pd\n"
   ]
  },
  {
   "cell_type": "code",
   "execution_count": 44,
   "metadata": {},
   "outputs": [],
   "source": [
    "# importation des modèles\n",
    "model_kmean = pickle.load(open('model_kmean','rb'))\n",
    "model_reg = pickle.load(open('model_reg','rb'))\n",
    "\n",
    "# importation du fichier test\n",
    "soutenance_raw = pd.read_csv('/Users/stephaniel/Documents/P10_Lemonnier_Stephanie_0722/P10_data/billets_test.csv')\n",
    "soutenance = soutenance_raw.drop(columns='id')"
   ]
  },
  {
   "cell_type": "code",
   "execution_count": 51,
   "metadata": {},
   "outputs": [],
   "source": [
    "pred_kmean = model_kmean.predict(soutenance)\n",
    "pred_reg = model_reg.predict(soutenance)\n",
    "soutenance_raw['pred_kmean'] = pred_kmean\n",
    "soutenance_raw['pred_reg'] = pred_reg\n",
    "soutenance_raw['proba'] = model_reg.predict_proba(soutenance)"
   ]
  },
  {
   "cell_type": "code",
   "execution_count": 52,
   "metadata": {},
   "outputs": [
    {
     "data": {
      "text/html": [
       "<div>\n",
       "<style scoped>\n",
       "    .dataframe tbody tr th:only-of-type {\n",
       "        vertical-align: middle;\n",
       "    }\n",
       "\n",
       "    .dataframe tbody tr th {\n",
       "        vertical-align: top;\n",
       "    }\n",
       "\n",
       "    .dataframe thead th {\n",
       "        text-align: right;\n",
       "    }\n",
       "</style>\n",
       "<table border=\"1\" class=\"dataframe\">\n",
       "  <thead>\n",
       "    <tr style=\"text-align: right;\">\n",
       "      <th></th>\n",
       "      <th>diagonal</th>\n",
       "      <th>height_left</th>\n",
       "      <th>height_right</th>\n",
       "      <th>margin_low</th>\n",
       "      <th>margin_up</th>\n",
       "      <th>length</th>\n",
       "      <th>id</th>\n",
       "      <th>pred_kmean</th>\n",
       "      <th>pred_reg</th>\n",
       "      <th>proba</th>\n",
       "    </tr>\n",
       "  </thead>\n",
       "  <tbody>\n",
       "    <tr>\n",
       "      <th>0</th>\n",
       "      <td>172.09</td>\n",
       "      <td>103.95</td>\n",
       "      <td>103.73</td>\n",
       "      <td>4.39</td>\n",
       "      <td>3.09</td>\n",
       "      <td>113.19</td>\n",
       "      <td>B_1</td>\n",
       "      <td>1</td>\n",
       "      <td>True</td>\n",
       "      <td>0.009170</td>\n",
       "    </tr>\n",
       "    <tr>\n",
       "      <th>1</th>\n",
       "      <td>171.52</td>\n",
       "      <td>104.17</td>\n",
       "      <td>104.03</td>\n",
       "      <td>5.27</td>\n",
       "      <td>3.16</td>\n",
       "      <td>111.82</td>\n",
       "      <td>B_2</td>\n",
       "      <td>0</td>\n",
       "      <td>False</td>\n",
       "      <td>0.993478</td>\n",
       "    </tr>\n",
       "    <tr>\n",
       "      <th>2</th>\n",
       "      <td>171.78</td>\n",
       "      <td>103.80</td>\n",
       "      <td>103.75</td>\n",
       "      <td>3.81</td>\n",
       "      <td>3.24</td>\n",
       "      <td>113.39</td>\n",
       "      <td>B_3</td>\n",
       "      <td>1</td>\n",
       "      <td>True</td>\n",
       "      <td>0.000648</td>\n",
       "    </tr>\n",
       "    <tr>\n",
       "      <th>3</th>\n",
       "      <td>172.02</td>\n",
       "      <td>104.08</td>\n",
       "      <td>103.99</td>\n",
       "      <td>5.57</td>\n",
       "      <td>3.30</td>\n",
       "      <td>111.10</td>\n",
       "      <td>B_4</td>\n",
       "      <td>0</td>\n",
       "      <td>False</td>\n",
       "      <td>0.999908</td>\n",
       "    </tr>\n",
       "    <tr>\n",
       "      <th>4</th>\n",
       "      <td>171.79</td>\n",
       "      <td>104.34</td>\n",
       "      <td>104.37</td>\n",
       "      <td>5.00</td>\n",
       "      <td>3.07</td>\n",
       "      <td>111.87</td>\n",
       "      <td>B_5</td>\n",
       "      <td>0</td>\n",
       "      <td>False</td>\n",
       "      <td>0.989624</td>\n",
       "    </tr>\n",
       "  </tbody>\n",
       "</table>\n",
       "</div>"
      ],
      "text/plain": [
       "   diagonal  height_left  height_right  margin_low  margin_up  length   id  \\\n",
       "0    172.09       103.95        103.73        4.39       3.09  113.19  B_1   \n",
       "1    171.52       104.17        104.03        5.27       3.16  111.82  B_2   \n",
       "2    171.78       103.80        103.75        3.81       3.24  113.39  B_3   \n",
       "3    172.02       104.08        103.99        5.57       3.30  111.10  B_4   \n",
       "4    171.79       104.34        104.37        5.00       3.07  111.87  B_5   \n",
       "\n",
       "   pred_kmean  pred_reg     proba  \n",
       "0           1      True  0.009170  \n",
       "1           0     False  0.993478  \n",
       "2           1      True  0.000648  \n",
       "3           0     False  0.999908  \n",
       "4           0     False  0.989624  "
      ]
     },
     "execution_count": 52,
     "metadata": {},
     "output_type": "execute_result"
    }
   ],
   "source": [
    "soutenance_raw"
   ]
  },
  {
   "cell_type": "code",
   "execution_count": null,
   "metadata": {},
   "outputs": [],
   "source": []
  }
 ],
 "metadata": {
  "kernelspec": {
   "display_name": "Python 3.9.12 ('base')",
   "language": "python",
   "name": "python3"
  },
  "language_info": {
   "codemirror_mode": {
    "name": "ipython",
    "version": 3
   },
   "file_extension": ".py",
   "mimetype": "text/x-python",
   "name": "python",
   "nbconvert_exporter": "python",
   "pygments_lexer": "ipython3",
   "version": "3.9.12"
  },
  "orig_nbformat": 4,
  "vscode": {
   "interpreter": {
    "hash": "7084a4f409bb8f93f0bf6af499b21e6a77edccefe6ffd88b42bb8ca14a769218"
   }
  }
 },
 "nbformat": 4,
 "nbformat_minor": 2
}
